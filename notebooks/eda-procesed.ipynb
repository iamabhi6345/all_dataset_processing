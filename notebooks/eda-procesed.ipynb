{
 "cells": [
  {
   "cell_type": "code",
   "execution_count": 1,
   "id": "169aa568-df3d-4979-a2e3-921f47e00239",
   "metadata": {
    "tags": []
   },
   "outputs": [],
   "source": [
    "import pandas as pd\n"
   ]
  },
  {
   "cell_type": "code",
   "execution_count": 6,
   "id": "3d3a2f5d-c86a-47f4-9256-528fa369ea41",
   "metadata": {
    "tags": []
   },
   "outputs": [
    {
     "name": "stdout",
     "output_type": "stream",
     "text": [
      "/app\n"
     ]
    },
    {
     "name": "stderr",
     "output_type": "stream",
     "text": [
      "/home/abhi/venv/lib/python3.10/site-packages/IPython/core/magics/osm.py:417: UserWarning: This is now an optional IPython functionality, setting dhist requires you to install the `pickleshare` library.\n",
      "  self.shell.db['dhist'] = compress_dhist(dhist)[-100:]\n"
     ]
    }
   ],
   "source": [
    "cd ../"
   ]
  },
  {
   "cell_type": "code",
   "execution_count": 7,
   "id": "216e9ee6-39aa-4774-8b5b-5e5ee8fa938c",
   "metadata": {
    "tags": []
   },
   "outputs": [
    {
     "name": "stdout",
     "output_type": "stream",
     "text": [
      "Makefile   abhishek  data    docker-compose.yaml  notebooks    pyproject.toml\n",
      "README.md  creds     docker  logs.log\t\t  poetry.lock  setup.cfg\n"
     ]
    }
   ],
   "source": [
    "!ls"
   ]
  },
  {
   "cell_type": "code",
   "execution_count": 8,
   "id": "fe3a06d7-288f-4b7c-b7ab-debe4854814a",
   "metadata": {
    "tags": []
   },
   "outputs": [
    {
     "name": "stdout",
     "output_type": "stream",
     "text": [
      "iamabhi45-85a6cc662b35.json  iamabhi45-8c25485baaf5.json\n"
     ]
    }
   ],
   "source": [
    "!ls creds"
   ]
  },
  {
   "cell_type": "code",
   "execution_count": 9,
   "id": "18d9933c-a181-4832-9d52-ac87670701cc",
   "metadata": {
    "tags": []
   },
   "outputs": [],
   "source": [
    "import os\n",
    "os.environ['GOOGLE_APPLICATION_CREDENTIALS'] = './creds/iamabhi45-8c25485baaf5.json'"
   ]
  },
  {
   "cell_type": "code",
   "execution_count": null,
   "id": "87773356-d43d-43ad-9904-2acb5113fcbe",
   "metadata": {},
   "outputs": [],
   "source": [
    "# gs://buckets45/data/processed/default_run/dev.parquet"
   ]
  },
  {
   "cell_type": "code",
   "execution_count": 11,
   "id": "67b29468-883e-4af4-b1d6-3a92a14d09e3",
   "metadata": {
    "tags": []
   },
   "outputs": [],
   "source": [
    "df = pd.read_parquet(\"gs://buckets45/data/processed/default_run/dev.parquet\")"
   ]
  },
  {
   "cell_type": "code",
   "execution_count": 12,
   "id": "10894f36-76cc-4d4f-ad40-bdf27eb45db7",
   "metadata": {
    "tags": []
   },
   "outputs": [
    {
     "data": {
      "text/html": [
       "<div>\n",
       "<style scoped>\n",
       "    .dataframe tbody tr th:only-of-type {\n",
       "        vertical-align: middle;\n",
       "    }\n",
       "\n",
       "    .dataframe tbody tr th {\n",
       "        vertical-align: top;\n",
       "    }\n",
       "\n",
       "    .dataframe thead th {\n",
       "        text-align: right;\n",
       "    }\n",
       "</style>\n",
       "<table border=\"1\" class=\"dataframe\">\n",
       "  <thead>\n",
       "    <tr style=\"text-align: right;\">\n",
       "      <th></th>\n",
       "      <th>split</th>\n",
       "      <th>label</th>\n",
       "      <th>text</th>\n",
       "      <th>dataset_name</th>\n",
       "      <th>cleaned_text</th>\n",
       "    </tr>\n",
       "  </thead>\n",
       "  <tbody>\n",
       "    <tr>\n",
       "      <th>14079</th>\n",
       "      <td>dev</td>\n",
       "      <td>0</td>\n",
       "      <td>🔺️NXIVM🔺️</td>\n",
       "      <td>ghc</td>\n",
       "      <td></td>\n",
       "    </tr>\n",
       "    <tr>\n",
       "      <th>12205</th>\n",
       "      <td>dev</td>\n",
       "      <td>0</td>\n",
       "      <td>RT @BudElliott3:</td>\n",
       "      <td>ghc</td>\n",
       "      <td></td>\n",
       "    </tr>\n",
       "    <tr>\n",
       "      <th>6609</th>\n",
       "      <td>dev</td>\n",
       "      <td>0</td>\n",
       "      <td>One more... https://dailycaller.com/2018/08/30...</td>\n",
       "      <td>ghc</td>\n",
       "      <td>one</td>\n",
       "    </tr>\n",
       "    <tr>\n",
       "      <th>5234</th>\n",
       "      <td>dev</td>\n",
       "      <td>0</td>\n",
       "      <td>https://www.youtube.com/watch?v=v_w75Fw6PiU</td>\n",
       "      <td>ghc</td>\n",
       "      <td>wwwyoutubecomwatch</td>\n",
       "    </tr>\n",
       "    <tr>\n",
       "      <th>11517</th>\n",
       "      <td>dev</td>\n",
       "      <td>0</td>\n",
       "      <td>https://www.youtube.com/watch?v=cc9ovvth3sY</td>\n",
       "      <td>ghc</td>\n",
       "      <td>wwwyoutubecomwatch</td>\n",
       "    </tr>\n",
       "    <tr>\n",
       "      <th>...</th>\n",
       "      <td>...</td>\n",
       "      <td>...</td>\n",
       "      <td>...</td>\n",
       "      <td>...</td>\n",
       "      <td>...</td>\n",
       "    </tr>\n",
       "    <tr>\n",
       "      <th>25625</th>\n",
       "      <td>dev</td>\n",
       "      <td>1</td>\n",
       "      <td>@ProoN ❤️</td>\n",
       "      <td>twitter</td>\n",
       "      <td>proof</td>\n",
       "    </tr>\n",
       "    <tr>\n",
       "      <th>28165</th>\n",
       "      <td>dev</td>\n",
       "      <td>1</td>\n",
       "      <td>@theomn https://t.co/b5HFOAtfbk</td>\n",
       "      <td>twitter</td>\n",
       "      <td>them</td>\n",
       "    </tr>\n",
       "    <tr>\n",
       "      <th>24600</th>\n",
       "      <td>dev</td>\n",
       "      <td>1</td>\n",
       "      <td>@mendel here, too. :)</td>\n",
       "      <td>twitter</td>\n",
       "      <td>mendel</td>\n",
       "    </tr>\n",
       "    <tr>\n",
       "      <th>25471</th>\n",
       "      <td>dev</td>\n",
       "      <td>1</td>\n",
       "      <td>@mieke14 is bullying me :'(</td>\n",
       "      <td>twitter</td>\n",
       "      <td>bullying</td>\n",
       "    </tr>\n",
       "    <tr>\n",
       "      <th>30044</th>\n",
       "      <td>dev</td>\n",
       "      <td>1</td>\n",
       "      <td>ââ±â±â²â²  house we</td>\n",
       "      <td>twitter</td>\n",
       "      <td>house</td>\n",
       "    </tr>\n",
       "  </tbody>\n",
       "</table>\n",
       "<p>227 rows × 5 columns</p>\n",
       "</div>"
      ],
      "text/plain": [
       "      split  label                                               text  \\\n",
       "14079   dev      0                                          🔺️NXIVM🔺️   \n",
       "12205   dev      0                                 RT @BudElliott3:     \n",
       "6609    dev      0  One more... https://dailycaller.com/2018/08/30...   \n",
       "5234    dev      0      https://www.youtube.com/watch?v=v_w75Fw6PiU     \n",
       "11517   dev      0       https://www.youtube.com/watch?v=cc9ovvth3sY    \n",
       "...     ...    ...                                                ...   \n",
       "25625   dev      1                                          @ProoN ❤️   \n",
       "28165   dev      1                    @theomn https://t.co/b5HFOAtfbk   \n",
       "24600   dev      1                              @mendel here, too. :)   \n",
       "25471   dev      1                        @mieke14 is bullying me :'(   \n",
       "30044   dev      1                          ââ±â±â²â²  house we   \n",
       "\n",
       "      dataset_name        cleaned_text  \n",
       "14079          ghc                      \n",
       "12205          ghc                      \n",
       "6609           ghc                 one  \n",
       "5234           ghc  wwwyoutubecomwatch  \n",
       "11517          ghc  wwwyoutubecomwatch  \n",
       "...            ...                 ...  \n",
       "25625      twitter               proof  \n",
       "28165      twitter                them  \n",
       "24600      twitter              mendel  \n",
       "25471      twitter            bullying  \n",
       "30044      twitter               house  \n",
       "\n",
       "[227 rows x 5 columns]"
      ]
     },
     "execution_count": 12,
     "metadata": {},
     "output_type": "execute_result"
    }
   ],
   "source": [
    "df[df[\"cleaned_text\"].str.split().apply(len) < 2]"
   ]
  },
  {
   "cell_type": "code",
   "execution_count": 5,
   "id": "5ba58049-ccc0-49a2-9aa5-88c5d4818695",
   "metadata": {},
   "outputs": [
    {
     "data": {
      "text/plain": [
       "261660"
      ]
     },
     "execution_count": 5,
     "metadata": {},
     "output_type": "execute_result"
    }
   ],
   "source": [
    "len(df)"
   ]
  },
  {
   "cell_type": "code",
   "execution_count": null,
   "id": "65f4cdfd-ed31-400f-9f0a-6aa149fb934e",
   "metadata": {},
   "outputs": [],
   "source": []
  }
 ],
 "metadata": {
  "kernelspec": {
   "display_name": "Python 3 (ipykernel)",
   "language": "python",
   "name": "python3"
  },
  "language_info": {
   "codemirror_mode": {
    "name": "ipython",
    "version": 3
   },
   "file_extension": ".py",
   "mimetype": "text/x-python",
   "name": "python",
   "nbconvert_exporter": "python",
   "pygments_lexer": "ipython3",
   "version": "3.10.14"
  }
 },
 "nbformat": 4,
 "nbformat_minor": 5
}
